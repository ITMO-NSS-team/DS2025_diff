{
 "cells": [
  {
   "cell_type": "code",
   "execution_count": 1,
   "metadata": {},
   "outputs": [],
   "source": [
    "import numpy as np\n",
    "import pandas as pd\n",
    "from functools import reduce\n",
    "\n",
    "import torch\n",
    "import os\n",
    "import sys\n",
    "import numpy as np\n",
    "import matplotlib.pyplot as plt\n",
    "import matplotlib\n",
    "\n",
    "from scipy.integrate import solve_ivp\n",
    "from scipy.io import loadmat\n",
    "from pysindy.utils import lotka\n",
    "\n",
    "import pysindy as ps\n",
    "\n",
    "import epde.interface.interface as epde_alg\n",
    "from epde.interface.prepared_tokens import TrigonometricTokens, CacheStoredTokens\n",
    "from epde.interface.solver_integration import BoundaryConditions, BOPElement\n",
    "\n",
    "import matplotlib as mpl\n",
    "mpl.rc('text', usetex=False)"
   ]
  },
  {
   "cell_type": "code",
   "execution_count": 2,
   "metadata": {},
   "outputs": [
    {
     "data": {
      "image/png": "[encoded data removed]",
      "text/plain": [
       "<Figure size 500x400 with 2 Axes>"
      ]
     },
     "metadata": {},
     "output_type": "display_data"
    }
   ],
   "source": [
    "x = np.linspace(-4, 4, 32)  \n",
    "t = np.linspace(0, 1, 32)\n",
    "u = np.load('data_kdv_noise0.005.npy')  \n",
    "u_x = np.load('kdv_Gradient_x_noise0.005.npy')\n",
    "u_t = np.load('kdv_Gradient_t_noise0.005.npy')\n",
    "u_xxx = np.load('kdv_Gradient_xxx_noise0.005.npy')\n",
    "u_xx = np.load('kdv_Gradient_xx_noise0.005.npy')\n",
    "\n",
    "plt.figure(figsize=(5, 4))\n",
    "plt.imshow(u, aspect='auto', extent=[np.min(x), np.max(x),np.min(t), np.max(t)], cmap='viridis')\n",
    "plt.colorbar()\n",
    "plt.title('KdV')\n",
    "plt.xlabel('x')\n",
    "plt.ylabel('t')\n",
    "plt.show()"
   ]
  },
  {
   "cell_type": "code",
   "execution_count": 18,
   "metadata": {},
   "outputs": [
    {
     "name": "stdout",
     "output_type": "stream",
     "text": [
      "(x0)' = -1.816 x1 + -0.052 x2 + -0.443 x0*x1 + -0.026 x1*x2\n"
     ]
    }
   ],
   "source": [
    "x = np.linspace(-4, 4, 32)  \n",
    "t = np.linspace(0, 1, 32)\n",
    "u = np.load('data_kdv_noise0.01.npy')  \n",
    "u_x = np.load('kdv_Gradient_x_noise0.01.npy')\n",
    "u_t = np.load('kdv_Gradient_t_noise0.01.npy')\n",
    "u_xxx = np.load('kdv_Gradient_xxx_noise0.01.npy')\n",
    "u_xx = np.load('kdv_Gradient_xx_noise0.01.npy')\n",
    "\n",
    "dt = t[1] - t[0]\n",
    "dx = x[1] - x[0]\n",
    "\n",
    "X = np.stack([u, u_x, u_xxx], axis=-1)  # (32, 32, 3)\n",
    "X = X.reshape(-1, 3)  # (1024, 3)\n",
    "X_dot = u_t.reshape(-1, 1)  # (1024, 1)\n",
    "\n",
    "library_functions = [lambda x: x, lambda x, y: x * y]  # Линейные и билинейные члены\n",
    "library_function_names = [lambda x: x, lambda x, y: f\"{x}*{y}\"]\n",
    "\n",
    "\n",
    "#CustomLibrary вместо PDELibrary\n",
    "custom_lib = ps.CustomLibrary(\n",
    "    library_functions=library_functions,\n",
    "    function_names=library_function_names\n",
    ")\n",
    "\n",
    "model = ps.SINDy(feature_library=custom_lib, optimizer=ps.STLSQ(threshold=0.02))\n",
    "model.fit(X, x_dot=X_dot)\n",
    "model.print()"
   ]
  },
  {
   "cell_type": "code",
   "execution_count": 19,
   "metadata": {},
   "outputs": [
    {
     "name": "stdout",
     "output_type": "stream",
     "text": [
      "(x0)' = -0.031 x1\n"
     ]
    }
   ],
   "source": [
    "x = np.linspace(-4, 4, 32)  \n",
    "t = np.linspace(0, 1, 32)\n",
    "u = np.load('data_kdv_noise0.01.npy')  \n",
    "u_x = np.load('kdv_Adaptive_x_noise0.01.npy')\n",
    "u_t = np.load('kdv_Adaptive_t_noise0.01.npy')\n",
    "u_xxx = np.load('kdv_Adaptive_xxx_noise0.01.npy')\n",
    "u_xx = np.load('kdv_Adaptive_xx_noise0.01.npy')\n",
    "\n",
    "dt = t[1] - t[0]\n",
    "dx = x[1] - x[0]\n",
    "\n",
    "X = np.stack([u, u_x, u_xxx], axis=-1)  # (32, 32, 3)\n",
    "X = X.reshape(-1, 3)  # (1024, 3)\n",
    "X_dot = u_t.reshape(-1, 1)  # (1024, 1)\n",
    "\n",
    "library_functions = [lambda x: x, lambda x, y: x * y]  # Линейные и билинейные члены\n",
    "library_function_names = [lambda x: x, lambda x, y: f\"{x}*{y}\"]\n",
    "\n",
    "\n",
    "#CustomLibrary вместо PDELibrary\n",
    "custom_lib = ps.CustomLibrary(\n",
    "    library_functions=library_functions,\n",
    "    function_names=library_function_names\n",
    ")\n",
    "\n",
    "model = ps.SINDy(feature_library=custom_lib, optimizer=ps.STLSQ(threshold=0.02))\n",
    "model.fit(X, x_dot=X_dot)\n",
    "model.print()"
   ]
  },
  {
   "cell_type": "code",
   "execution_count": 21,
   "metadata": {},
   "outputs": [
    {
     "name": "stdout",
     "output_type": "stream",
     "text": [
      "(x0)' = -0.022 x0 + -1.698 x1 + -0.841 x0*x1 + -0.113 x0*x2 + -0.042 x1*x2\n"
     ]
    }
   ],
   "source": [
    "x = np.linspace(-4, 4, 32)  \n",
    "t = np.linspace(0, 1, 32)\n",
    "u = np.load('data_kdv_noise0.01.npy')  \n",
    "u_x = np.load('kdv_Polynomial_x_noise0.01.npy')\n",
    "u_t = np.load('kdv_Polynomial_t_noise0.01.npy')\n",
    "u_xxx = np.load('kdv_Polynomial_xxx_noise0.01.npy')\n",
    "u_xx = np.load('kdv_Polynomial_xx_noise0.01.npy')\n",
    "\n",
    "dt = t[1] - t[0]\n",
    "dx = x[1] - x[0]\n",
    "\n",
    "X = np.stack([u, u_x, u_xxx], axis=-1)  # (32, 32, 3)\n",
    "X = X.reshape(-1, 3)  # (1024, 3)\n",
    "X_dot = u_t.reshape(-1, 1)  # (1024, 1)\n",
    "\n",
    "library_functions = [lambda x: x, lambda x, y: x * y]  # Линейные и билинейные члены\n",
    "library_function_names = [lambda x: x, lambda x, y: f\"{x}*{y}\"]\n",
    "\n",
    "\n",
    "#CustomLibrary вместо PDELibrary\n",
    "custom_lib = ps.CustomLibrary(\n",
    "    library_functions=library_functions,\n",
    "    function_names=library_function_names\n",
    ")\n",
    "\n",
    "model = ps.SINDy(feature_library=custom_lib, optimizer=ps.STLSQ(threshold=0.02))\n",
    "model.fit(X, x_dot=X_dot)\n",
    "model.print()"
   ]
  },
  {
   "cell_type": "code",
   "execution_count": 22,
   "metadata": {},
   "outputs": [
    {
     "name": "stdout",
     "output_type": "stream",
     "text": [
      "(x0)' = 0.893 x1 + 0.067 x2 + -2.523 x0*x1 + 0.059 x0*x2\n"
     ]
    }
   ],
   "source": [
    "x = np.linspace(-4, 4, 32)  \n",
    "t = np.linspace(0, 1, 32)\n",
    "u = np.load('data_kdv_noise0.01.npy')  \n",
    "u_x = np.load('kdv_Spectral_x_noise0.01.npy')\n",
    "u_t = np.load('kdv_Spectral_t_noise0.01.npy')\n",
    "u_xxx = np.load('kdv_Spectral_xxx_noise0.01.npy')\n",
    "u_xx = np.load('kdv_Spectral_xx_noise0.01.npy')\n",
    "\n",
    "dt = t[1] - t[0]\n",
    "dx = x[1] - x[0]\n",
    "\n",
    "X = np.stack([u, u_x, u_xxx], axis=-1)  # (32, 32, 3)\n",
    "X = X.reshape(-1, 3)  # (1024, 3)\n",
    "X_dot = u_t.reshape(-1, 1)  # (1024, 1)\n",
    "\n",
    "library_functions = [lambda x: x, lambda x, y: x * y]  # Линейные и билинейные члены\n",
    "library_function_names = [lambda x: x, lambda x, y: f\"{x}*{y}\"]\n",
    "\n",
    "\n",
    "#CustomLibrary вместо PDELibrary\n",
    "custom_lib = ps.CustomLibrary(\n",
    "    library_functions=library_functions,\n",
    "    function_names=library_function_names\n",
    ")\n",
    "\n",
    "model = ps.SINDy(feature_library=custom_lib, optimizer=ps.STLSQ(threshold=0.02))\n",
    "model.fit(X, x_dot=X_dot)\n",
    "model.print()"
   ]
  },
  {
   "cell_type": "code",
   "execution_count": 23,
   "metadata": {},
   "outputs": [
    {
     "name": "stdout",
     "output_type": "stream",
     "text": [
      "(x0)' = -0.242 x1 + -0.030 x1*x2\n"
     ]
    }
   ],
   "source": [
    "x = np.linspace(-4, 4, 32)  \n",
    "t = np.linspace(0, 1, 32)\n",
    "u = np.load('data_kdv_noise0.01.npy')  \n",
    "u_x = np.load('kdv_Inverse_x_noise0.01.npy')\n",
    "u_t = np.load('kdv_Inverse_t_noise0.01.npy')\n",
    "u_xxx = np.load('kdv_Inverse_xxx_noise0.01.npy')\n",
    "u_xx = np.load('kdv_Inverse_xx_noise0.01.npy')\n",
    "\n",
    "dt = t[1] - t[0]\n",
    "dx = x[1] - x[0]\n",
    "\n",
    "X = np.stack([u, u_x, u_xxx], axis=-1)  # (32, 32, 3)\n",
    "X = X.reshape(-1, 3)  # (1024, 3)\n",
    "X_dot = u_t.reshape(-1, 1)  # (1024, 1)\n",
    "\n",
    "library_functions = [lambda x: x, lambda x, y: x * y]  # Линейные и билинейные члены\n",
    "library_function_names = [lambda x: x, lambda x, y: f\"{x}*{y}\"]\n",
    "\n",
    "\n",
    "#CustomLibrary вместо PDELibrary\n",
    "custom_lib = ps.CustomLibrary(\n",
    "    library_functions=library_functions,\n",
    "    function_names=library_function_names\n",
    ")\n",
    "\n",
    "model = ps.SINDy(feature_library=custom_lib, optimizer=ps.STLSQ(threshold=0.02))\n",
    "model.fit(X, x_dot=X_dot)\n",
    "model.print()"
   ]
  },
  {
   "cell_type": "code",
   "execution_count": 24,
   "metadata": {},
   "outputs": [
    {
     "name": "stdout",
     "output_type": "stream",
     "text": [
      "(x0)' = -0.047 x0 + -0.238 x1 + 4.015 x2 + 0.731 x0*x1 + -1.019 x0*x2 + 4.539 x1*x2\n"
     ]
    }
   ],
   "source": [
    "x = np.linspace(-4, 4, 32)  \n",
    "t = np.linspace(0, 1, 32)\n",
    "u = np.load('data_kdv_noise0.01.npy')  \n",
    "u_x = np.load('kdv_Total_x_noise0.01.npy')\n",
    "u_t = np.load('kdv_Total_t_noise0.01.npy')\n",
    "u_xxx = np.load('kdv_Total_xxx_noise0.01.npy')\n",
    "u_xx = np.load('kdv_Total_xx_noise0.01.npy')\n",
    "\n",
    "dt = t[1] - t[0]\n",
    "dx = x[1] - x[0]\n",
    "\n",
    "X = np.stack([u, u_x, u_xxx], axis=-1)  # (32, 32, 3)\n",
    "X = X.reshape(-1, 3)  # (1024, 3)\n",
    "X_dot = u_t.reshape(-1, 1)  # (1024, 1)\n",
    "\n",
    "library_functions = [lambda x: x, lambda x, y: x * y]  # Линейные и билинейные члены\n",
    "library_function_names = [lambda x: x, lambda x, y: f\"{x}*{y}\"]\n",
    "\n",
    "\n",
    "#CustomLibrary вместо PDELibrary\n",
    "custom_lib = ps.CustomLibrary(\n",
    "    library_functions=library_functions,\n",
    "    function_names=library_function_names\n",
    ")\n",
    "\n",
    "model = ps.SINDy(feature_library=custom_lib, optimizer=ps.STLSQ(threshold=0.02))\n",
    "model.fit(X, x_dot=X_dot)\n",
    "model.print()"
   ]
  }
 ],
 "metadata": {
  "kernelspec": {
   "display_name": "base",
   "language": "python",
   "name": "python3"
  },
  "language_info": {
   "codemirror_mode": {
    "name": "ipython",
    "version": 3
   },
   "file_extension": ".py",
   "mimetype": "text/x-python",
   "name": "python",
   "nbconvert_exporter": "python",
   "pygments_lexer": "ipython3",
   "version": "3.11.7"
  }
 },
 "nbformat": 4,
 "nbformat_minor": 2
}
