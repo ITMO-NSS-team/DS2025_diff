{
 "cells": [
  {
   "cell_type": "code",
   "execution_count": 1,
   "metadata": {},
   "outputs": [],
   "source": [
    "import numpy as np\n",
    "import pandas as pd\n",
    "from functools import reduce\n",
    "\n",
    "import torch\n",
    "import os\n",
    "import sys\n",
    "import numpy as np\n",
    "import matplotlib.pyplot as plt\n",
    "import matplotlib\n",
    "\n",
    "from scipy.integrate import solve_ivp\n",
    "from scipy.io import loadmat\n",
    "from pysindy.utils import lotka\n",
    "\n",
    "import pysindy as ps\n",
    "\n",
    "import epde.interface.interface as epde_alg\n",
    "from epde.interface.prepared_tokens import TrigonometricTokens, CacheStoredTokens\n",
    "from epde.interface.solver_integration import BoundaryConditions, BOPElement\n",
    "\n",
    "import matplotlib as mpl\n",
    "mpl.rc('text', usetex=False)"
   ]
  },
  {
   "cell_type": "code",
   "execution_count": 2,
   "metadata": {},
   "outputs": [],
   "source": [
    "#Laplace         \n",
    "u = np.load('data_laplace_noise0.005.npy')         \n",
    "grid_x = np.linspace(0, 1, 32)\n",
    "grid_y = np.linspace(0, 1, 32)\n",
    "x = np.linspace(0, 1, 32)\n",
    "y = np.linspace(0, 1, 32)\n",
    "u_x = np.load('Laplace_Gradient_x_noise0.005.npy')\n",
    "u_xx = np.load('Laplace_Gradient_xx_noise0.005.npy')\n",
    "u_y = np.load('Laplace_Gradient_y_noise0.005.npy')\n",
    "u_yy = np.load('Laplace_Gradient_yy_noise0.005.npy')"
   ]
  },
  {
   "cell_type": "code",
   "execution_count": 14,
   "metadata": {},
   "outputs": [
    {
     "name": "stdout",
     "output_type": "stream",
     "text": [
      "(x0)' = 1.000 x2 + 1.000 x4\n"
     ]
    }
   ],
   "source": [
    "dy = y[1] - y[0]\n",
    "dx = x[1] - x[0]\n",
    "u = np.load('data_laplace_noise0.01.npy')         \n",
    "grid_x = np.linspace(0, 1, 32)\n",
    "grid_y = np.linspace(0, 1, 32)\n",
    "x = np.linspace(0, 1, 32)\n",
    "y = np.linspace(0, 1, 32)\n",
    "u_x = np.load('Laplace_Total_x_noise0.01.npy')\n",
    "u_xx = np.load('Laplace_Total_xx_noise0.01.npy')\n",
    "u_y = np.load('Laplace_Total_y_noise0.01.npy')\n",
    "u_yy = np.load('Laplace_Total_yy_noise0.01.npy')\n",
    "# Целевая переменная (левая часть уравнения Лапласа)\n",
    "laplace_u = u_xx + u_yy  # Должно быть близко к нулю\n",
    "\n",
    "# Преобразуем данные в нужный формат\n",
    "X_data = np.stack([u, u_x, u_xx, u_y, u_yy], axis=-1)  # (32, 32, 5)\n",
    "X_data = X_data.reshape(-1, 5)  # (1024, 5)\n",
    "X_dot = laplace_u.reshape(-1, 1)  # (1024, 1)\n",
    "\n",
    "# Создаем библиотеку функций\n",
    "library_functions = [lambda x: x]  # Линейные члены\n",
    "library_function_names = [lambda x: x]  # Имена функций\n",
    "\n",
    "# Используем CustomLibrary\n",
    "custom_lib = ps.CustomLibrary(\n",
    "    library_functions=library_functions,\n",
    "    function_names=library_function_names\n",
    ")\n",
    "\n",
    "# Обучаем модель\n",
    "model = ps.SINDy(feature_library=custom_lib, optimizer=ps.STLSQ(threshold=0.1))\n",
    "model.fit(X_data, x_dot=X_dot)\n",
    "model.print()"
   ]
  },
  {
   "cell_type": "code",
   "execution_count": 15,
   "metadata": {},
   "outputs": [
    {
     "name": "stdout",
     "output_type": "stream",
     "text": [
      "(x0)' = 1.170 x1 + -0.777 x2\n"
     ]
    }
   ],
   "source": [
    "dy = y[1] - y[0]\n",
    "dx = x[1] - x[0]\n",
    "u = np.load('data_laplace_noise0.01.npy')         \n",
    "grid_x = np.linspace(0, 1, 32)\n",
    "grid_y = np.linspace(0, 1, 32)\n",
    "x = np.linspace(0, 1, 32)\n",
    "y = np.linspace(0, 1, 32)\n",
    "u_x = np.load('Laplace_Gradient_x_noise0.01.npy')\n",
    "u_xx = np.load('Laplace_Gradient_xx_noise0.01.npy')\n",
    "u_y = np.load('Laplace_Gradient_y_noise0.01.npy')\n",
    "u_yy = np.load('Laplace_Gradient_yy_noise0.01.npy')\n",
    "# Целевая переменная (левая часть уравнения Лапласа)\n",
    "laplace_u = u_xx + u_yy  # Должно быть близко к нулю\n",
    "\n",
    "# Преобразуем данные в нужный формат\n",
    "X_data = np.stack([u, u_x, u_y, u_yy], axis=-1)  # (32, 32, 5)\n",
    "X_data = X_data.reshape(-1, 4)  # (1024, 5)\n",
    "X_dot = u_xx.reshape(-1, 1)  # (1024, 1)\n",
    "\n",
    "# Создаем библиотеку функций\n",
    "library_functions = [lambda x: x]  # Линейные члены\n",
    "library_function_names = [lambda x: x]  # Имена функций\n",
    "\n",
    "# Используем CustomLibrary\n",
    "custom_lib = ps.CustomLibrary(\n",
    "    library_functions=library_functions,\n",
    "    function_names=library_function_names\n",
    ")\n",
    "\n",
    "# Обучаем модель\n",
    "model = ps.SINDy(feature_library=custom_lib, optimizer=ps.STLSQ(threshold=0.4))\n",
    "model.fit(X_data, x_dot=X_dot)\n",
    "model.print()"
   ]
  },
  {
   "cell_type": "code",
   "execution_count": 18,
   "metadata": {},
   "outputs": [
    {
     "name": "stdout",
     "output_type": "stream",
     "text": [
      "(x0)' = 1.837 x1 + 0.457 x3\n"
     ]
    }
   ],
   "source": [
    "dy = y[1] - y[0]\n",
    "dx = x[1] - x[0]\n",
    "u = np.load('data_laplace_noise0.01.npy')         \n",
    "grid_x = np.linspace(0, 1, 32)\n",
    "grid_y = np.linspace(0, 1, 32)\n",
    "x = np.linspace(0, 1, 32)\n",
    "y = np.linspace(0, 1, 32)\n",
    "u_x = np.load('Laplace_Adaptive_x_noise0.01.npy')\n",
    "u_xx = np.load('Laplace_Adaptive_xx_noise0.01.npy')\n",
    "u_y = np.load('Laplace_Adaptive_y_noise0.01.npy')\n",
    "u_yy = np.load('Laplace_Adaptive_yy_noise0.01.npy')\n",
    "# Целевая переменная (левая часть уравнения Лапласа)\n",
    "laplace_u = u_xx + u_yy  # Должно быть близко к нулю\n",
    "\n",
    "# Преобразуем данные в нужный формат\n",
    "X_data = np.stack([u, u_x, u_y, u_yy], axis=-1)  # (32, 32, 5)\n",
    "X_data = X_data.reshape(-1, 4)  # (1024, 5)\n",
    "X_dot = u_xx.reshape(-1, 1)  # (1024, 1)\n",
    "\n",
    "# Создаем библиотеку функций\n",
    "library_functions = [lambda x: x]  # Линейные члены\n",
    "library_function_names = [lambda x: x]  # Имена функций\n",
    "\n",
    "# Используем CustomLibrary\n",
    "custom_lib = ps.CustomLibrary(\n",
    "    library_functions=library_functions,\n",
    "    function_names=library_function_names\n",
    ")\n",
    "\n",
    "# Обучаем модель\n",
    "model = ps.SINDy(feature_library=custom_lib, optimizer=ps.STLSQ(threshold=0.4))\n",
    "model.fit(X_data, x_dot=X_dot)\n",
    "model.print()"
   ]
  },
  {
   "cell_type": "code",
   "execution_count": 19,
   "metadata": {},
   "outputs": [
    {
     "name": "stdout",
     "output_type": "stream",
     "text": [
      "(x0)' = 0.856 x0 + 0.974 x1 + -1.033 x2\n"
     ]
    }
   ],
   "source": [
    "dy = y[1] - y[0]\n",
    "dx = x[1] - x[0]\n",
    "u = np.load('data_laplace_noise0.01.npy')         \n",
    "grid_x = np.linspace(0, 1, 32)\n",
    "grid_y = np.linspace(0, 1, 32)\n",
    "x = np.linspace(0, 1, 32)\n",
    "y = np.linspace(0, 1, 32)\n",
    "u_x = np.load('Laplace_Polynomial_x_noise0.01.npy')\n",
    "u_xx = np.load('Laplace_Polynomial_xx_noise0.01.npy')\n",
    "u_y = np.load('Laplace_Polynomial_y_noise0.01.npy')\n",
    "u_yy = np.load('Laplace_Polynomial_yy_noise0.01.npy')\n",
    "# Целевая переменная (левая часть уравнения Лапласа)\n",
    "laplace_u = u_xx + u_yy  # Должно быть близко к нулю\n",
    "\n",
    "# Преобразуем данные в нужный формат\n",
    "X_data = np.stack([u, u_x, u_y, u_yy], axis=-1)  # (32, 32, 5)\n",
    "X_data = X_data.reshape(-1, 4)  # (1024, 5)\n",
    "X_dot = u_xx.reshape(-1, 1)  # (1024, 1)\n",
    "\n",
    "# Создаем библиотеку функций\n",
    "library_functions = [lambda x: x]  # Линейные члены\n",
    "library_function_names = [lambda x: x]  # Имена функций\n",
    "\n",
    "# Используем CustomLibrary\n",
    "custom_lib = ps.CustomLibrary(\n",
    "    library_functions=library_functions,\n",
    "    function_names=library_function_names\n",
    ")\n",
    "\n",
    "# Обучаем модель\n",
    "model = ps.SINDy(feature_library=custom_lib, optimizer=ps.STLSQ(threshold=0.4))\n",
    "model.fit(X_data, x_dot=X_dot)\n",
    "model.print()"
   ]
  },
  {
   "cell_type": "code",
   "execution_count": 21,
   "metadata": {},
   "outputs": [
    {
     "name": "stdout",
     "output_type": "stream",
     "text": [
      "(x0)' = -5.819 x0\n"
     ]
    }
   ],
   "source": [
    "dy = y[1] - y[0]\n",
    "dx = x[1] - x[0]\n",
    "u = np.load('data_laplace_noise0.01.npy')         \n",
    "grid_x = np.linspace(0, 1, 32)\n",
    "grid_y = np.linspace(0, 1, 32)\n",
    "x = np.linspace(0, 1, 32)\n",
    "y = np.linspace(0, 1, 32)\n",
    "u_x = np.load('Laplace_Spectral_x_noise0.01.npy')\n",
    "u_xx = np.load('Laplace_Spectral_xx_noise0.01.npy')\n",
    "u_y = np.load('Laplace_Spectral_y_noise0.01.npy')\n",
    "u_yy = np.load('Laplace_Spectral_yy_noise0.01.npy')\n",
    "# Целевая переменная (левая часть уравнения Лапласа)\n",
    "laplace_u = u_xx + u_yy  # Должно быть близко к нулю\n",
    "\n",
    "# Преобразуем данные в нужный формат\n",
    "X_data = np.stack([u, u_x, u_y, u_yy], axis=-1)  # (32, 32, 5)\n",
    "X_data = X_data.reshape(-1, 4)  # (1024, 5)\n",
    "X_dot = u_xx.reshape(-1, 1)  # (1024, 1)\n",
    "\n",
    "# Создаем библиотеку функций\n",
    "library_functions = [lambda x: x]  # Линейные члены\n",
    "library_function_names = [lambda x: x]  # Имена функций\n",
    "\n",
    "# Используем CustomLibrary\n",
    "custom_lib = ps.CustomLibrary(\n",
    "    library_functions=library_functions,\n",
    "    function_names=library_function_names\n",
    ")\n",
    "\n",
    "# Обучаем модель\n",
    "model = ps.SINDy(feature_library=custom_lib, optimizer=ps.STLSQ(threshold=0.4))\n",
    "model.fit(X_data, x_dot=X_dot)\n",
    "model.print()"
   ]
  },
  {
   "cell_type": "code",
   "execution_count": 22,
   "metadata": {},
   "outputs": [
    {
     "name": "stdout",
     "output_type": "stream",
     "text": [
      "(x0)' = -4.920 x0 + 21.790 x1 + 2.000 x2\n"
     ]
    }
   ],
   "source": [
    "dy = y[1] - y[0]\n",
    "dx = x[1] - x[0]\n",
    "u = np.load('data_laplace_noise0.01.npy')         \n",
    "grid_x = np.linspace(0, 1, 32)\n",
    "grid_y = np.linspace(0, 1, 32)\n",
    "x = np.linspace(0, 1, 32)\n",
    "y = np.linspace(0, 1, 32)\n",
    "u_x = np.load('Laplace_Inverse_x_noise0.01.npy')\n",
    "u_xx = np.load('Laplace_Inverse_xx_noise0.01.npy')\n",
    "u_y = np.load('Laplace_Inverse_y_noise0.01.npy')\n",
    "u_yy = np.load('Laplace_Inverse_yy_noise0.01.npy')\n",
    "# Целевая переменная (левая часть уравнения Лапласа)\n",
    "laplace_u = u_xx + u_yy  # Должно быть близко к нулю\n",
    "\n",
    "# Преобразуем данные в нужный формат\n",
    "X_data = np.stack([u, u_x, u_y, u_yy], axis=-1)  # (32, 32, 5)\n",
    "X_data = X_data.reshape(-1, 4)  # (1024, 5)\n",
    "X_dot = u_xx.reshape(-1, 1)  # (1024, 1)\n",
    "\n",
    "# Создаем библиотеку функций\n",
    "library_functions = [lambda x: x]  # Линейные члены\n",
    "library_function_names = [lambda x: x]  # Имена функций\n",
    "\n",
    "# Используем CustomLibrary\n",
    "custom_lib = ps.CustomLibrary(\n",
    "    library_functions=library_functions,\n",
    "    function_names=library_function_names\n",
    ")\n",
    "\n",
    "# Обучаем модель\n",
    "model = ps.SINDy(feature_library=custom_lib, optimizer=ps.STLSQ(threshold=0.4))\n",
    "model.fit(X_data, x_dot=X_dot)\n",
    "model.print()"
   ]
  },
  {
   "cell_type": "code",
   "execution_count": 24,
   "metadata": {},
   "outputs": [
    {
     "name": "stdout",
     "output_type": "stream",
     "text": [
      "(x0)' = -0.419 x1\n"
     ]
    }
   ],
   "source": [
    "dy = y[1] - y[0]\n",
    "dx = x[1] - x[0]\n",
    "u = np.load('data_laplace_noise0.01.npy')         \n",
    "grid_x = np.linspace(0, 1, 32)\n",
    "grid_y = np.linspace(0, 1, 32)\n",
    "x = np.linspace(0, 1, 32)\n",
    "y = np.linspace(0, 1, 32)\n",
    "u_x = np.load('Laplace_Total_x_noise0.01.npy')\n",
    "u_xx = np.load('Laplace_Total_xx_noise0.01.npy')\n",
    "u_y = np.load('Laplace_Total_y_noise0.01.npy')\n",
    "u_yy = np.load('Laplace_Total_yy_noise0.01.npy')\n",
    "# Целевая переменная (левая часть уравнения Лапласа)\n",
    "laplace_u = u_xx + u_yy  # Должно быть близко к нулю\n",
    "\n",
    "# Преобразуем данные в нужный формат\n",
    "X_data = np.stack([u, u_x, u_y, u_yy], axis=-1)  # (32, 32, 5)\n",
    "X_data = X_data.reshape(-1, 4)  # (1024, 5)\n",
    "X_dot = u_xx.reshape(-1, 1)  # (1024, 1)\n",
    "\n",
    "# Создаем библиотеку функций\n",
    "library_functions = [lambda x: x]  # Линейные члены\n",
    "library_function_names = [lambda x: x]  # Имена функций\n",
    "\n",
    "# Используем CustomLibrary\n",
    "custom_lib = ps.CustomLibrary(\n",
    "    library_functions=library_functions,\n",
    "    function_names=library_function_names\n",
    ")\n",
    "\n",
    "# Обучаем модель\n",
    "model = ps.SINDy(feature_library=custom_lib, optimizer=ps.STLSQ(threshold=0.4))\n",
    "model.fit(X_data, x_dot=X_dot)\n",
    "model.print()"
   ]
  }
 ],
 "metadata": {
  "kernelspec": {
   "display_name": "base",
   "language": "python",
   "name": "python3"
  },
  "language_info": {
   "codemirror_mode": {
    "name": "ipython",
    "version": 3
   },
   "file_extension": ".py",
   "mimetype": "text/x-python",
   "name": "python",
   "nbconvert_exporter": "python",
   "pygments_lexer": "ipython3",
   "version": "3.11.7"
  }
 },
 "nbformat": 4,
 "nbformat_minor": 2
}
