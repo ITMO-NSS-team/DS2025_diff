{
 "cells": [
  {
   "cell_type": "code",
   "execution_count": 1,
   "metadata": {},
   "outputs": [],
   "source": [
    "import numpy as np\n",
    "import pandas as pd\n",
    "from functools import reduce\n",
    "\n",
    "import torch\n",
    "import os\n",
    "import sys\n",
    "import numpy as np\n",
    "import matplotlib.pyplot as plt\n",
    "import matplotlib\n",
    "\n",
    "from scipy.integrate import solve_ivp\n",
    "from scipy.io import loadmat\n",
    "from pysindy.utils import lotka\n",
    "\n",
    "import pysindy as ps\n",
    "\n",
    "import epde.interface.interface as epde_alg\n",
    "from epde.interface.prepared_tokens import TrigonometricTokens, CacheStoredTokens\n",
    "from epde.interface.solver_integration import BoundaryConditions, BOPElement\n",
    "\n",
    "import matplotlib as mpl\n",
    "mpl.rc('text', usetex=False)"
   ]
  },
  {
   "cell_type": "code",
   "execution_count": 3,
   "metadata": {},
   "outputs": [],
   "source": [
    "#ode x'' + 0.25 * x' + 3*x = 0\n",
    "u = np.load('data_ode_noise0.npy')         \n",
    "grid_t = np.linspace(0, 10, 32)\n",
    "t = np.linspace(0, 10, 32)\n",
    "u_t = np.load('ode_Gradient_t_noise0.npy')\n",
    "u_tt = np.load('ode_Gradient_tt_noise0.npy')"
   ]
  },
  {
   "cell_type": "code",
   "execution_count": 4,
   "metadata": {},
   "outputs": [
    {
     "data": {
      "text/plain": [
       "(32,)"
      ]
     },
     "execution_count": 4,
     "metadata": {},
     "output_type": "execute_result"
    }
   ],
   "source": [
    "u_tt.shape"
   ]
  },
  {
   "cell_type": "code",
   "execution_count": 9,
   "metadata": {},
   "outputs": [
    {
     "name": "stdout",
     "output_type": "stream",
     "text": [
      "(x0)' = -2.754 x0 + -0.212 x1\n"
     ]
    }
   ],
   "source": [
    "u = np.load('data_ode_noise0.01.npy')         \n",
    "grid_t = np.linspace(0, 10, 32)\n",
    "t = np.linspace(0, 10, 32)\n",
    "u_t = np.load('ode_Gradient_t_noise0.01.npy')\n",
    "u_tt = np.load('ode_Gradient_tt_noise0.01.npy')\n",
    "\n",
    "# Преобразуем данные в нужный формат\n",
    "X = np.stack([u, u_t], axis=-1)  # (32, 2) - объединяем u и u_t\n",
    "X_dot = u_tt.reshape(-1, 1)  # (32, 1) - вторая производная u_tt\n",
    "\n",
    "# Создаем библиотеку функций\n",
    "library_functions = [lambda x: x]  # Линейные члены\n",
    "library_function_names = [lambda x: x]  # Имена функций\n",
    "\n",
    "# Используем CustomLibrary\n",
    "custom_lib = ps.CustomLibrary(\n",
    "    library_functions=library_functions,\n",
    "    function_names=library_function_names\n",
    ")\n",
    "\n",
    "# Обучаем модель\n",
    "model = ps.SINDy(feature_library=custom_lib, optimizer=ps.STLSQ(threshold=0.04))\n",
    "model.fit(X, x_dot=X_dot)\n",
    "model.print()"
   ]
  },
  {
   "cell_type": "code",
   "execution_count": 10,
   "metadata": {},
   "outputs": [
    {
     "name": "stdout",
     "output_type": "stream",
     "text": [
      "(x0)' = -2.353 x0 + -0.256 x1\n"
     ]
    }
   ],
   "source": [
    "u = np.load('data_ode_noise0.01.npy')         \n",
    "grid_t = np.linspace(0, 10, 32)\n",
    "t = np.linspace(0, 10, 32)\n",
    "u_t = np.load('ode_Adaptive_t_noise0.01.npy')\n",
    "u_tt = np.load('ode_Adaptive_tt_noise0.01.npy')\n",
    "\n",
    "# Преобразуем данные в нужный формат\n",
    "X = np.stack([u, u_t], axis=-1)  # (32, 2) - объединяем u и u_t\n",
    "X_dot = u_tt.reshape(-1, 1)  # (32, 1) - вторая производная u_tt\n",
    "\n",
    "# Создаем библиотеку функций\n",
    "library_functions = [lambda x: x]  # Линейные члены\n",
    "library_function_names = [lambda x: x]  # Имена функций\n",
    "\n",
    "# Используем CustomLibrary\n",
    "custom_lib = ps.CustomLibrary(\n",
    "    library_functions=library_functions,\n",
    "    function_names=library_function_names\n",
    ")\n",
    "\n",
    "# Обучаем модель\n",
    "model = ps.SINDy(feature_library=custom_lib, optimizer=ps.STLSQ(threshold=0.04))\n",
    "model.fit(X, x_dot=X_dot)\n",
    "model.print()"
   ]
  },
  {
   "cell_type": "code",
   "execution_count": 11,
   "metadata": {},
   "outputs": [
    {
     "name": "stdout",
     "output_type": "stream",
     "text": [
      "(x0)' = -2.785 x0 + -0.176 x1\n"
     ]
    }
   ],
   "source": [
    "u = np.load('data_ode_noise0.01.npy')         \n",
    "grid_t = np.linspace(0, 10, 32)\n",
    "t = np.linspace(0, 10, 32)\n",
    "u_t = np.load('ode_Polynomial_t_noise0.01.npy')\n",
    "u_tt = np.load('ode_Polynomial_tt_noise0.01.npy')\n",
    "\n",
    "# Преобразуем данные в нужный формат\n",
    "X = np.stack([u, u_t], axis=-1)  # (32, 2) - объединяем u и u_t\n",
    "X_dot = u_tt.reshape(-1, 1)  # (32, 1) - вторая производная u_tt\n",
    "\n",
    "# Создаем библиотеку функций\n",
    "library_functions = [lambda x: x]  # Линейные члены\n",
    "library_function_names = [lambda x: x]  # Имена функций\n",
    "\n",
    "# Используем CustomLibrary\n",
    "custom_lib = ps.CustomLibrary(\n",
    "    library_functions=library_functions,\n",
    "    function_names=library_function_names\n",
    ")\n",
    "\n",
    "# Обучаем модель\n",
    "model = ps.SINDy(feature_library=custom_lib, optimizer=ps.STLSQ(threshold=0.04))\n",
    "model.fit(X, x_dot=X_dot)\n",
    "model.print()"
   ]
  },
  {
   "cell_type": "code",
   "execution_count": 12,
   "metadata": {},
   "outputs": [
    {
     "name": "stdout",
     "output_type": "stream",
     "text": [
      "(x0)' = -3.197 x0\n"
     ]
    }
   ],
   "source": [
    "u = np.load('data_ode_noise0.01.npy')         \n",
    "grid_t = np.linspace(0, 10, 32)\n",
    "t = np.linspace(0, 10, 32)\n",
    "u_t = np.load('ode_Spectral_t_noise0.01.npy')\n",
    "u_tt = np.load('ode_Spectral_tt_noise0.01.npy')\n",
    "\n",
    "# Преобразуем данные в нужный формат\n",
    "X = np.stack([u, u_t], axis=-1)  # (32, 2) - объединяем u и u_t\n",
    "X_dot = u_tt.reshape(-1, 1)  # (32, 1) - вторая производная u_tt\n",
    "\n",
    "# Создаем библиотеку функций\n",
    "library_functions = [lambda x: x]  # Линейные члены\n",
    "library_function_names = [lambda x: x]  # Имена функций\n",
    "\n",
    "# Используем CustomLibrary\n",
    "custom_lib = ps.CustomLibrary(\n",
    "    library_functions=library_functions,\n",
    "    function_names=library_function_names\n",
    ")\n",
    "\n",
    "# Обучаем модель\n",
    "model = ps.SINDy(feature_library=custom_lib, optimizer=ps.STLSQ(threshold=0.04))\n",
    "model.fit(X, x_dot=X_dot)\n",
    "model.print()"
   ]
  },
  {
   "cell_type": "code",
   "execution_count": 13,
   "metadata": {},
   "outputs": [
    {
     "name": "stdout",
     "output_type": "stream",
     "text": [
      "(x0)' = -3.240 x0 + -0.268 x1\n"
     ]
    }
   ],
   "source": [
    "u = np.load('data_ode_noise0.01.npy')         \n",
    "grid_t = np.linspace(0, 10, 32)\n",
    "t = np.linspace(0, 10, 32)\n",
    "u_t = np.load('ode_Inverse_t_noise0.01.npy')\n",
    "u_tt = np.load('ode_Inverse_tt_noise0.01.npy')\n",
    "u_t = u_t[:, 0]\n",
    "u_tt = u_tt[:, 0]\n",
    "# Преобразуем данные в нужный формат\n",
    "X = np.stack([u, u_t], axis=-1)  # (32, 2) - объединяем u и u_t\n",
    "X_dot = u_tt.reshape(-1, 1)  # (32, 1) - вторая производная u_tt\n",
    "\n",
    "# Создаем библиотеку функций\n",
    "library_functions = [lambda x: x]  # Линейные члены\n",
    "library_function_names = [lambda x: x]  # Имена функций\n",
    "\n",
    "# Используем CustomLibrary\n",
    "custom_lib = ps.CustomLibrary(\n",
    "    library_functions=library_functions,\n",
    "    function_names=library_function_names\n",
    ")\n",
    "\n",
    "# Обучаем модель\n",
    "model = ps.SINDy(feature_library=custom_lib, optimizer=ps.STLSQ(threshold=0.04))\n",
    "model.fit(X, x_dot=X_dot)\n",
    "model.print()"
   ]
  },
  {
   "cell_type": "code",
   "execution_count": 15,
   "metadata": {},
   "outputs": [
    {
     "name": "stdout",
     "output_type": "stream",
     "text": [
      "(x0)' = -0.414 x0 + -1.072 x1\n"
     ]
    }
   ],
   "source": [
    "u = np.load('data_ode_noise0.01.npy')         \n",
    "grid_t = np.linspace(0, 10, 32)\n",
    "t = np.linspace(0, 10, 32)\n",
    "u_t = np.load('ode_Total_t_noise0.01.npy')\n",
    "u_tt = np.load('ode_Total_tt_noise0.01.npy')\n",
    "\n",
    "# Преобразуем данные в нужный формат\n",
    "X = np.stack([u, u_t], axis=-1)  # (32, 2) - объединяем u и u_t\n",
    "X_dot = u_tt.reshape(-1, 1)  # (32, 1) - вторая производная u_tt\n",
    "\n",
    "# Создаем библиотеку функций\n",
    "library_functions = [lambda x: x]  # Линейные члены\n",
    "library_function_names = [lambda x: x]  # Имена функций\n",
    "\n",
    "# Используем CustomLibrary\n",
    "custom_lib = ps.CustomLibrary(\n",
    "    library_functions=library_functions,\n",
    "    function_names=library_function_names\n",
    ")\n",
    "\n",
    "# Обучаем модель\n",
    "model = ps.SINDy(feature_library=custom_lib, optimizer=ps.STLSQ(threshold=0.04))\n",
    "model.fit(X, x_dot=X_dot)\n",
    "model.print()"
   ]
  }
 ],
 "metadata": {
  "kernelspec": {
   "display_name": "base",
   "language": "python",
   "name": "python3"
  },
  "language_info": {
   "codemirror_mode": {
    "name": "ipython",
    "version": 3
   },
   "file_extension": ".py",
   "mimetype": "text/x-python",
   "name": "python",
   "nbconvert_exporter": "python",
   "pygments_lexer": "ipython3",
   "version": "3.11.7"
  }
 },
 "nbformat": 4,
 "nbformat_minor": 2
}
