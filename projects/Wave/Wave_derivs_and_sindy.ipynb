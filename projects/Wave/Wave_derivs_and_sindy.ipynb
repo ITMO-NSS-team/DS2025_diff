{
 "cells": [
  {
   "cell_type": "code",
   "execution_count": 1,
   "metadata": {},
   "outputs": [],
   "source": [
    "import numpy as np\n",
    "import pandas as pd\n",
    "from functools import reduce\n",
    "\n",
    "import torch\n",
    "import os\n",
    "import sys\n",
    "import numpy as np\n",
    "import matplotlib.pyplot as plt\n",
    "import matplotlib\n",
    "\n",
    "from scipy.integrate import solve_ivp\n",
    "from scipy.io import loadmat\n",
    "from pysindy.utils import lotka\n",
    "\n",
    "import pysindy as ps\n",
    "\n",
    "import epde.interface.interface as epde_alg\n",
    "from epde.interface.prepared_tokens import TrigonometricTokens, CacheStoredTokens\n",
    "from epde.interface.solver_integration import BoundaryConditions, BOPElement\n",
    "\n",
    "import matplotlib as mpl\n",
    "mpl.rc('text', usetex=False)"
   ]
  },
  {
   "cell_type": "code",
   "execution_count": 60,
   "metadata": {},
   "outputs": [
    {
     "name": "stdout",
     "output_type": "stream",
     "text": [
      "(x0)' = -0.164 x0 + 0.395 x1 + 1.917 x2\n"
     ]
    }
   ],
   "source": [
    "\n",
    "u = np.load('data_wave_noise0.01.npy') \n",
    "L = 1.0          \n",
    "T = 1.0          \n",
    "Nx = 32          \n",
    "Nt = 32         \n",
    "grid_x = np.linspace(0, L, Nx)\n",
    "grid_t = np.linspace(0, T, Nt)\n",
    "x = np.linspace(0, L, Nx)\n",
    "t = np.linspace(0, T, Nt)\n",
    "u_x = np.load('wave_Gradient_t_noise0.01.npy')\n",
    "u_xx = np.load('wave_Gradient_tt_noise0.01.npy')\n",
    "u_t = np.load('wave_Gradient_x_noise0.01.npy')\n",
    "u_tt = np.load('wave_Gradient_xx_noise0.01.npy')\n",
    "X = np.stack([u_t, u_tt, u_x], axis=-1)  # (32, 32, 3)\n",
    "X = X.reshape(-1, 3)  # (1024, 3)\n",
    "X_dot = u_xx.reshape(-1, 1)  # (1024, 1)\n",
    "\n",
    "# Создаем библиотеку функций\n",
    "library_functions = [lambda x: x]  # Линейные члены\n",
    "library_function_names = [lambda x: x]  # Имена функций\n",
    "\n",
    "#CustomLibrary вместо PDELibrary\n",
    "custom_lib = ps.CustomLibrary(\n",
    "    library_functions=library_functions,\n",
    "    function_names=library_function_names\n",
    ")\n",
    "\n",
    "model = ps.SINDy(feature_library=custom_lib, optimizer=ps.STLSQ(threshold=0.005))\n",
    "model.fit(X, x_dot=X_dot)\n",
    "model.print()"
   ]
  },
  {
   "cell_type": "code",
   "execution_count": 61,
   "metadata": {},
   "outputs": [
    {
     "name": "stdout",
     "output_type": "stream",
     "text": [
      "(x0)' = -0.044 x0 + 0.332 x1 + 1.258 x2\n"
     ]
    }
   ],
   "source": [
    "\n",
    "u = np.load('data_wave_noise0.01.npy') \n",
    "L = 1.0          \n",
    "T = 1.0          \n",
    "Nx = 32          \n",
    "Nt = 32         \n",
    "grid_x = np.linspace(0, L, Nx)\n",
    "grid_t = np.linspace(0, T, Nt)\n",
    "x = np.linspace(0, L, Nx)\n",
    "t = np.linspace(0, T, Nt)\n",
    "u_x = np.load('wave_Adaptive_t_noise0.01.npy')\n",
    "u_xx = np.load('wave_Adaptive_tt_noise0.01.npy')\n",
    "u_t = np.load('wave_Adaptive_x_noise0.01.npy')\n",
    "u_tt = np.load('wave_Adaptive_xx_noise0.01.npy')\n",
    "X = np.stack([u_t, u_tt, u_x], axis=-1)  # (32, 32, 3)\n",
    "X = X.reshape(-1, 3)  # (1024, 3)\n",
    "X_dot = u_xx.reshape(-1, 1)  # (1024, 1)\n",
    "\n",
    "# Создаем библиотеку функций\n",
    "library_functions = [lambda x: x]  # Линейные члены\n",
    "library_function_names = [lambda x: x]  # Имена функций\n",
    "\n",
    "#CustomLibrary вместо PDELibrary\n",
    "custom_lib = ps.CustomLibrary(\n",
    "    library_functions=library_functions,\n",
    "    function_names=library_function_names\n",
    ")\n",
    "\n",
    "model = ps.SINDy(feature_library=custom_lib, optimizer=ps.STLSQ(threshold=0.005))\n",
    "model.fit(X, x_dot=X_dot)\n",
    "model.print()"
   ]
  },
  {
   "cell_type": "code",
   "execution_count": 62,
   "metadata": {},
   "outputs": [
    {
     "name": "stdout",
     "output_type": "stream",
     "text": [
      "(x0)' = 0.069 x0 + 0.100 x1 + 0.952 x2\n"
     ]
    }
   ],
   "source": [
    "\n",
    "u = np.load('data_wave_noise0.01.npy') \n",
    "L = 1.0          \n",
    "T = 1.0          \n",
    "Nx = 32          \n",
    "Nt = 32         \n",
    "grid_x = np.linspace(0, L, Nx)\n",
    "grid_t = np.linspace(0, T, Nt)\n",
    "x = np.linspace(0, L, Nx)\n",
    "t = np.linspace(0, T, Nt)\n",
    "u_x = np.load('wave_Polynomial_t_noise0.01.npy')\n",
    "u_xx = np.load('wave_Polynomial_tt_noise0.01.npy')\n",
    "u_t = np.load('wave_Polynomial_x_noise0.01.npy')\n",
    "u_tt = np.load('wave_Polynomial_xx_noise0.01.npy')\n",
    "X = np.stack([u_t, u_tt, u_x], axis=-1)  # (32, 32, 3)\n",
    "X = X.reshape(-1, 3)  # (1024, 3)\n",
    "X_dot = u_xx.reshape(-1, 1)  # (1024, 1)\n",
    "\n",
    "# Создаем библиотеку функций\n",
    "library_functions = [lambda x: x]  # Линейные члены\n",
    "library_function_names = [lambda x: x]  # Имена функций\n",
    "\n",
    "#CustomLibrary вместо PDELibrary\n",
    "custom_lib = ps.CustomLibrary(\n",
    "    library_functions=library_functions,\n",
    "    function_names=library_function_names\n",
    ")\n",
    "\n",
    "model = ps.SINDy(feature_library=custom_lib, optimizer=ps.STLSQ(threshold=0.005))\n",
    "model.fit(X, x_dot=X_dot)\n",
    "model.print()"
   ]
  },
  {
   "cell_type": "code",
   "execution_count": 63,
   "metadata": {},
   "outputs": [
    {
     "name": "stdout",
     "output_type": "stream",
     "text": [
      "(x0)' = 0.000\n"
     ]
    },
    {
     "name": "stderr",
     "output_type": "stream",
     "text": [
      "c:\\Anaconda3\\Lib\\site-packages\\pysindy\\optimizers\\stlsq.py:191: UserWarning: Sparsity parameter is too big (0.005) and eliminated all coefficients\n",
      "  warnings.warn(\n"
     ]
    }
   ],
   "source": [
    "\n",
    "u = np.load('data_wave_noise0.01.npy') \n",
    "L = 1.0          \n",
    "T = 1.0          \n",
    "Nx = 32          \n",
    "Nt = 32         \n",
    "grid_x = np.linspace(0, L, Nx)\n",
    "grid_t = np.linspace(0, T, Nt)\n",
    "x = np.linspace(0, L, Nx)\n",
    "t = np.linspace(0, T, Nt)\n",
    "u_x = np.load('wave_Spectral_t_noise0.01.npy')\n",
    "u_xx = np.load('wave_Spectral_tt_noise0.01.npy')\n",
    "u_t = np.load('wave_Spectral_x_noise0.01.npy')\n",
    "u_tt = np.load('wave_Spectral_xx_noise0.01.npy')\n",
    "X = np.stack([u_t, u_tt, u_x], axis=-1)  # (32, 32, 3)\n",
    "X = X.reshape(-1, 3)  # (1024, 3)\n",
    "X_dot = u_xx.reshape(-1, 1)  # (1024, 1)\n",
    "\n",
    "# Создаем библиотеку функций\n",
    "library_functions = [lambda x: x]  # Линейные члены\n",
    "library_function_names = [lambda x: x]  # Имена функций\n",
    "\n",
    "#CustomLibrary вместо PDELibrary\n",
    "custom_lib = ps.CustomLibrary(\n",
    "    library_functions=library_functions,\n",
    "    function_names=library_function_names\n",
    ")\n",
    "\n",
    "model = ps.SINDy(feature_library=custom_lib, optimizer=ps.STLSQ(threshold=0.005))\n",
    "model.fit(X, x_dot=X_dot)\n",
    "model.print()"
   ]
  },
  {
   "cell_type": "code",
   "execution_count": 64,
   "metadata": {},
   "outputs": [
    {
     "name": "stdout",
     "output_type": "stream",
     "text": [
      "(x0)' = -0.040 x0 + 4.586 x1 + 1.717 x2\n"
     ]
    }
   ],
   "source": [
    "\n",
    "u = np.load('data_wave_noise0.01.npy') \n",
    "L = 1.0          \n",
    "T = 1.0          \n",
    "Nx = 32          \n",
    "Nt = 32         \n",
    "grid_x = np.linspace(0, L, Nx)\n",
    "grid_t = np.linspace(0, T, Nt)\n",
    "x = np.linspace(0, L, Nx)\n",
    "t = np.linspace(0, T, Nt)\n",
    "u_x = np.load('wave_Inverse_t_noise0.01.npy')\n",
    "u_xx = np.load('wave_Inverse_tt_noise0.01.npy')\n",
    "u_t = np.load('wave_Inverse_x_noise0.01.npy')\n",
    "u_tt = np.load('wave_Inverse_xx_noise0.01.npy')\n",
    "X = np.stack([u_t, u_tt, u_x], axis=-1)  # (32, 32, 3)\n",
    "X = X.reshape(-1, 3)  # (1024, 3)\n",
    "X_dot = u_xx.reshape(-1, 1)  # (1024, 1)\n",
    "\n",
    "# Создаем библиотеку функций\n",
    "library_functions = [lambda x: x]  # Линейные члены\n",
    "library_function_names = [lambda x: x]  # Имена функций\n",
    "\n",
    "#CustomLibrary вместо PDELibrary\n",
    "custom_lib = ps.CustomLibrary(\n",
    "    library_functions=library_functions,\n",
    "    function_names=library_function_names\n",
    ")\n",
    "\n",
    "model = ps.SINDy(feature_library=custom_lib, optimizer=ps.STLSQ(threshold=0.005))\n",
    "model.fit(X, x_dot=X_dot)\n",
    "model.print()"
   ]
  },
  {
   "cell_type": "code",
   "execution_count": 65,
   "metadata": {},
   "outputs": [
    {
     "name": "stdout",
     "output_type": "stream",
     "text": [
      "(x0)' = 0.048 x0 + 0.079 x1 + -0.596 x2\n"
     ]
    }
   ],
   "source": [
    "\n",
    "u = np.load('data_wave_noise0.01.npy') \n",
    "L = 1.0          \n",
    "T = 1.0          \n",
    "Nx = 32          \n",
    "Nt = 32         \n",
    "grid_x = np.linspace(0, L, Nx)\n",
    "grid_t = np.linspace(0, T, Nt)\n",
    "x = np.linspace(0, L, Nx)\n",
    "t = np.linspace(0, T, Nt)\n",
    "u_x = np.load('wave_Total_t_noise0.01.npy')\n",
    "u_xx = np.load('wave_Total_tt_noise0.01.npy')\n",
    "u_t = np.load('wave_Total_x_noise0.01.npy')\n",
    "u_tt = np.load('wave_Total_xx_noise0.01.npy')\n",
    "X = np.stack([u_t, u_tt, u_x], axis=-1)  # (32, 32, 3)\n",
    "X = X.reshape(-1, 3)  # (1024, 3)\n",
    "X_dot = u_xx.reshape(-1, 1)  # (1024, 1)\n",
    "\n",
    "# Создаем библиотеку функций\n",
    "library_functions = [lambda x: x]  # Линейные члены\n",
    "library_function_names = [lambda x: x]  # Имена функций\n",
    "\n",
    "#CustomLibrary вместо PDELibrary\n",
    "custom_lib = ps.CustomLibrary(\n",
    "    library_functions=library_functions,\n",
    "    function_names=library_function_names\n",
    ")\n",
    "\n",
    "model = ps.SINDy(feature_library=custom_lib, optimizer=ps.STLSQ(threshold=0.005))\n",
    "model.fit(X, x_dot=X_dot)\n",
    "model.print()"
   ]
  }
 ],
 "metadata": {
  "kernelspec": {
   "display_name": "base",
   "language": "python",
   "name": "python3"
  },
  "language_info": {
   "codemirror_mode": {
    "name": "ipython",
    "version": 3
   },
   "file_extension": ".py",
   "mimetype": "text/x-python",
   "name": "python",
   "nbconvert_exporter": "python",
   "pygments_lexer": "ipython3",
   "version": "3.11.7"
  }
 },
 "nbformat": 4,
 "nbformat_minor": 2
}
